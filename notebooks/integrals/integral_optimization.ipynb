{
 "cells": [
  {
   "cell_type": "markdown",
   "id": "e281af4c",
   "metadata": {},
   "source": [
    "# Optimization results for the Power series, Fourier series and Gaussian superposition pulses"
   ]
  },
  {
   "cell_type": "code",
   "execution_count": 1,
   "id": "78f00d66",
   "metadata": {},
   "outputs": [
    {
     "name": "stdout",
     "output_type": "stream",
     "text": [
      "Requirement already satisfied: uncertainties in c:\\users\\roman\\anaconda3\\lib\\site-packages (3.1.7)\n",
      "Requirement already satisfied: future in c:\\users\\roman\\anaconda3\\lib\\site-packages (from uncertainties) (0.18.2)\n"
     ]
    },
    {
     "name": "stderr",
     "output_type": "stream",
     "text": [
      "\n",
      "[notice] A new release of pip is available: 23.0 -> 23.0.1\n",
      "[notice] To update, run: python.exe -m pip install --upgrade pip\n"
     ]
    },
    {
     "name": "stdout",
     "output_type": "stream",
     "text": [
      "Requirement already satisfied: quantum_gates in c:\\users\\roman\\anaconda3\\lib\\site-packages (1.0.4)"
     ]
    },
    {
     "name": "stderr",
     "output_type": "stream",
     "text": [
      "\n",
      "[notice] A new release of pip is available: 23.0 -> 23.0.1\n",
      "[notice] To update, run: python.exe -m pip install --upgrade pip\n"
     ]
    },
    {
     "name": "stdout",
     "output_type": "stream",
     "text": [
      "\n",
      "Requirement already satisfied: qiskit-ibm-provider in c:\\users\\roman\\anaconda3\\lib\\site-packages (from quantum_gates) (0.2.1)\n",
      "Requirement already satisfied: numpy>=1.22 in c:\\users\\roman\\anaconda3\\lib\\site-packages (from quantum_gates) (1.22.4)\n",
      "Requirement already satisfied: matplotlib in c:\\users\\roman\\anaconda3\\lib\\site-packages (from quantum_gates) (3.4.3)\n",
      "Requirement already satisfied: pylatexenc in c:\\users\\roman\\anaconda3\\lib\\site-packages (from quantum_gates) (2.10)\n",
      "Requirement already satisfied: opt-einsum in c:\\users\\roman\\anaconda3\\lib\\site-packages (from quantum_gates) (3.3.0)\n",
      "Requirement already satisfied: qiskit>=0.39.2 in c:\\users\\roman\\anaconda3\\lib\\site-packages (from quantum_gates) (0.39.4)\n",
      "Requirement already satisfied: scipy in c:\\users\\roman\\anaconda3\\lib\\site-packages (from quantum_gates) (1.7.1)\n",
      "Requirement already satisfied: qiskit-terra==0.22.3 in c:\\users\\roman\\anaconda3\\lib\\site-packages (from qiskit>=0.39.2->quantum_gates) (0.22.3)\n",
      "Requirement already satisfied: qiskit-ibmq-provider==0.19.2 in c:\\users\\roman\\anaconda3\\lib\\site-packages (from qiskit>=0.39.2->quantum_gates) (0.19.2)\n",
      "Requirement already satisfied: qiskit-aer==0.11.2 in c:\\users\\roman\\anaconda3\\lib\\site-packages (from qiskit>=0.39.2->quantum_gates) (0.11.2)\n",
      "Requirement already satisfied: requests-ntlm>=1.1.0 in c:\\users\\roman\\anaconda3\\lib\\site-packages (from qiskit-ibmq-provider==0.19.2->qiskit>=0.39.2->quantum_gates) (1.1.0)\n",
      "Requirement already satisfied: websocket-client>=1.0.1 in c:\\users\\roman\\anaconda3\\lib\\site-packages (from qiskit-ibmq-provider==0.19.2->qiskit>=0.39.2->quantum_gates) (1.3.3)\n",
      "Requirement already satisfied: websockets>=10.0 in c:\\users\\roman\\anaconda3\\lib\\site-packages (from qiskit-ibmq-provider==0.19.2->qiskit>=0.39.2->quantum_gates) (10.4)\n",
      "Requirement already satisfied: urllib3>=1.21.1 in c:\\users\\roman\\anaconda3\\lib\\site-packages (from qiskit-ibmq-provider==0.19.2->qiskit>=0.39.2->quantum_gates) (1.26.7)\n",
      "Requirement already satisfied: python-dateutil>=2.8.0 in c:\\users\\roman\\anaconda3\\lib\\site-packages (from qiskit-ibmq-provider==0.19.2->qiskit>=0.39.2->quantum_gates) (2.8.2)\n",
      "Requirement already satisfied: requests>=2.19 in c:\\users\\roman\\anaconda3\\lib\\site-packages (from qiskit-ibmq-provider==0.19.2->qiskit>=0.39.2->quantum_gates) (2.26.0)\n",
      "Requirement already satisfied: ply>=3.10 in c:\\users\\roman\\anaconda3\\lib\\site-packages (from qiskit-terra==0.22.3->qiskit>=0.39.2->quantum_gates) (3.11)\n",
      "Requirement already satisfied: psutil>=5 in c:\\users\\roman\\anaconda3\\lib\\site-packages (from qiskit-terra==0.22.3->qiskit>=0.39.2->quantum_gates) (5.8.0)\n",
      "Requirement already satisfied: dill>=0.3 in c:\\users\\roman\\anaconda3\\lib\\site-packages (from qiskit-terra==0.22.3->qiskit>=0.39.2->quantum_gates) (0.3.6)\n",
      "Requirement already satisfied: retworkx>=0.11.0 in c:\\users\\roman\\anaconda3\\lib\\site-packages (from qiskit-terra==0.22.3->qiskit>=0.39.2->quantum_gates) (0.12.1)\n",
      "Requirement already satisfied: sympy>=1.3 in c:\\users\\roman\\anaconda3\\lib\\site-packages (from qiskit-terra==0.22.3->qiskit>=0.39.2->quantum_gates) (1.9)\n",
      "Requirement already satisfied: tweedledum<2.0,>=1.1 in c:\\users\\roman\\anaconda3\\lib\\site-packages (from qiskit-terra==0.22.3->qiskit>=0.39.2->quantum_gates) (1.1.1)\n",
      "Requirement already satisfied: stevedore>=3.0.0 in c:\\users\\roman\\anaconda3\\lib\\site-packages (from qiskit-terra==0.22.3->qiskit>=0.39.2->quantum_gates) (4.1.1)\n",
      "Requirement already satisfied: kiwisolver>=1.0.1 in c:\\users\\roman\\anaconda3\\lib\\site-packages (from matplotlib->quantum_gates) (1.3.1)\n",
      "Requirement already satisfied: pillow>=6.2.0 in c:\\users\\roman\\anaconda3\\lib\\site-packages (from matplotlib->quantum_gates) (8.4.0)\n",
      "Requirement already satisfied: cycler>=0.10 in c:\\users\\roman\\anaconda3\\lib\\site-packages (from matplotlib->quantum_gates) (0.10.0)\n",
      "Requirement already satisfied: pyparsing>=2.2.1 in c:\\users\\roman\\anaconda3\\lib\\site-packages (from matplotlib->quantum_gates) (3.0.4)\n",
      "Requirement already satisfied: typing-extensions>=4.3 in c:\\users\\roman\\anaconda3\\lib\\site-packages (from qiskit-ibm-provider->quantum_gates) (4.5.0)\n",
      "Requirement already satisfied: six in c:\\users\\roman\\anaconda3\\lib\\site-packages (from cycler>=0.10->matplotlib->quantum_gates) (1.16.0)\n",
      "Requirement already satisfied: charset-normalizer~=2.0.0 in c:\\users\\roman\\anaconda3\\lib\\site-packages (from requests>=2.19->qiskit-ibmq-provider==0.19.2->qiskit>=0.39.2->quantum_gates) (2.0.4)\n",
      "Requirement already satisfied: idna<4,>=2.5 in c:\\users\\roman\\anaconda3\\lib\\site-packages (from requests>=2.19->qiskit-ibmq-provider==0.19.2->qiskit>=0.39.2->quantum_gates) (3.2)\n",
      "Requirement already satisfied: certifi>=2017.4.17 in c:\\users\\roman\\anaconda3\\lib\\site-packages (from requests>=2.19->qiskit-ibmq-provider==0.19.2->qiskit>=0.39.2->quantum_gates) (2021.10.8)\n",
      "Requirement already satisfied: cryptography>=1.3 in c:\\users\\roman\\anaconda3\\lib\\site-packages (from requests-ntlm>=1.1.0->qiskit-ibmq-provider==0.19.2->qiskit>=0.39.2->quantum_gates) (3.4.8)\n",
      "Requirement already satisfied: ntlm-auth>=1.0.2 in c:\\users\\roman\\anaconda3\\lib\\site-packages (from requests-ntlm>=1.1.0->qiskit-ibmq-provider==0.19.2->qiskit>=0.39.2->quantum_gates) (1.5.0)\n",
      "Requirement already satisfied: cffi>=1.12 in c:\\users\\roman\\anaconda3\\lib\\site-packages (from cryptography>=1.3->requests-ntlm>=1.1.0->qiskit-ibmq-provider==0.19.2->qiskit>=0.39.2->quantum_gates) (1.14.6)\n",
      "Requirement already satisfied: rustworkx==0.12.1 in c:\\users\\roman\\anaconda3\\lib\\site-packages (from retworkx>=0.11.0->qiskit-terra==0.22.3->qiskit>=0.39.2->quantum_gates) (0.12.1)\n",
      "Requirement already satisfied: pbr!=2.1.0,>=2.0.0 in c:\\users\\roman\\anaconda3\\lib\\site-packages (from stevedore>=3.0.0->qiskit-terra==0.22.3->qiskit>=0.39.2->quantum_gates) (5.11.1)\n",
      "Requirement already satisfied: mpmath>=0.19 in c:\\users\\roman\\anaconda3\\lib\\site-packages (from sympy>=1.3->qiskit-terra==0.22.3->qiskit>=0.39.2->quantum_gates) (1.2.1)\n",
      "Requirement already satisfied: pycparser in c:\\users\\roman\\anaconda3\\lib\\site-packages (from cffi>=1.12->cryptography>=1.3->requests-ntlm>=1.1.0->qiskit-ibmq-provider==0.19.2->qiskit>=0.39.2->quantum_gates) (2.20)\n"
     ]
    }
   ],
   "source": [
    "!pip install uncertainties\n",
    "!pip install quantum_gates"
   ]
  },
  {
   "cell_type": "markdown",
   "id": "762784c4",
   "metadata": {},
   "source": [
    "## Imports"
   ]
  },
  {
   "cell_type": "code",
   "execution_count": 2,
   "id": "76dfa302",
   "metadata": {},
   "outputs": [],
   "source": [
    "import numpy as np\n",
    "import pandas as pd\n",
    "import json \n",
    "import matplotlib as mpl\n",
    "import matplotlib.pyplot as plt\n",
    "import pickle\n",
    "\n",
    "import sys\n",
    "sys.path.append('../..')\n",
    "from pulse_opt.pulses.power_pulses import PowerFactory\n",
    "from pulse_opt.pulses.fourier_pulses import FourierFactory"
   ]
  },
  {
   "cell_type": "code",
   "execution_count": 3,
   "id": "a8847c37",
   "metadata": {},
   "outputs": [],
   "source": [
    "def set_matplotlib_style(overwrite: dict={}):\n",
    "    \"\"\"Sets the rc parameters to pre-defined values.\n",
    "\n",
    "    Use the overwrite lookup to overwrite the default behaviour.\n",
    "\n",
    "    Args:\n",
    "        overwrite (dict): Lookup table which can be used to overwrite the default values.\n",
    "    \"\"\"\n",
    "    plt.rcParams.update({\n",
    "        \"axes.titlesize\": 16,\n",
    "        \"axes.labelsize\": 12,\n",
    "        \"lines.linewidth\": 1.5,\n",
    "        \"lines.markersize\": 5,\n",
    "        \"xtick.labelsize\": 12,\n",
    "        \"ytick.labelsize\": 12,\n",
    "        \"legend.fontsize\": \"medium\",\n",
    "        \"figure.figsize\": (8, 6),\n",
    "    })\n",
    "\n",
    "    # Plot background -> white inside, transparent outside\n",
    "    plt.rcParams.update({\n",
    "        \"figure.facecolor\":  (1.0, 1.0, 1.0, 0.0),  # white with alpha = 0%\n",
    "        \"axes.facecolor\":    (1.0, 1.0, 1.0, 1.0),  # white with alpha = 100%\n",
    "        \"savefig.facecolor\": (1.0, 1.0, 1.0, 0.0),  # white with alpha = 0%\n",
    "    })\n",
    "\n",
    "    # Plot error bars\n",
    "    plt.rcParams.update({\n",
    "        \"errorbar.capsize\":  8,  # Length of the error bar caps\n",
    "    })\n",
    "\n",
    "    # Overwrite default behaviour\n",
    "    if isinstance(overwrite, dict) and len(overwrite) > 0:\n",
    "        plt.rcParams.update(overwrite)\n",
    "    return\n",
    "\n",
    "\n",
    "def activate_latex(preamble_list: list[str]=[]):\n",
    "    \"\"\"Activates LaTeX for use in Matplotlib and import some packages.\n",
    "\n",
    "    Imported packages include amsmath, amssymb, and braket.\n",
    "\n",
    "    Examples:\n",
    "        preamble_list = ['\\\\usepackage{myfancypackage}'] where the string has an r as prefix.\n",
    "\n",
    "    Args:\n",
    "        preample_list (list[str]): List of raw str that represent the lines of the LaTeX preample used for imports.\n",
    "    \"\"\"\n",
    "\n",
    "    pgf_with_latex = {\n",
    "        \"text.usetex\": True,\n",
    "        \"font.family\": \"sans-serif\",\n",
    "        \"font.sans-serif\": [\"Helvetica\"],\n",
    "        \"text.latex.preamble\": \"\\n\".join([\n",
    "            r\"\\usepackage[utf8]{inputenc}\",\n",
    "            r\"\\usepackage[T1]{fontenc}\",\n",
    "            r\"\\usepackage{amsmath}\",\n",
    "            r\"\\usepackage{amssymb}\",\n",
    "            r\"\\usepackage{braket}\",\n",
    "        ] + preamble_list)\n",
    "    }\n",
    "    mpl.rcParams.update(pgf_with_latex)\n",
    "    return"
   ]
  },
  {
   "cell_type": "code",
   "execution_count": 4,
   "id": "c4c6b093",
   "metadata": {},
   "outputs": [],
   "source": [
    "set_matplotlib_style()"
   ]
  },
  {
   "cell_type": "markdown",
   "id": "68cae41a",
   "metadata": {},
   "source": [
    "## Paths"
   ]
  },
  {
   "cell_type": "code",
   "execution_count": 5,
   "id": "5ce2d511",
   "metadata": {},
   "outputs": [],
   "source": [
    "rel_folder = \"../../results/integrals\""
   ]
  },
  {
   "cell_type": "markdown",
   "id": "4dce4a09",
   "metadata": {},
   "source": [
    "## Data loading "
   ]
  },
  {
   "cell_type": "code",
   "execution_count": 6,
   "id": "ae39f2ab",
   "metadata": {},
   "outputs": [
    {
     "data": {
      "text/html": [
       "<div>\n",
       "<style scoped>\n",
       "    .dataframe tbody tr th:only-of-type {\n",
       "        vertical-align: middle;\n",
       "    }\n",
       "\n",
       "    .dataframe tbody tr th {\n",
       "        vertical-align: top;\n",
       "    }\n",
       "\n",
       "    .dataframe thead th {\n",
       "        text-align: right;\n",
       "    }\n",
       "</style>\n",
       "<table border=\"1\" class=\"dataframe\">\n",
       "  <thead>\n",
       "    <tr style=\"text-align: right;\">\n",
       "      <th></th>\n",
       "      <th>Unnamed: 0</th>\n",
       "      <th>name</th>\n",
       "      <th>description</th>\n",
       "      <th>loss</th>\n",
       "      <th>loss_path</th>\n",
       "      <th>weights</th>\n",
       "      <th>a</th>\n",
       "      <th>shift</th>\n",
       "      <th>n</th>\n",
       "      <th>theta</th>\n",
       "      <th>...</th>\n",
       "      <th>constr_violation</th>\n",
       "      <th>execution_time</th>\n",
       "      <th>tr_radius</th>\n",
       "      <th>constr_penalty</th>\n",
       "      <th>barrier_parameter</th>\n",
       "      <th>barrier_tolerance</th>\n",
       "      <th>status</th>\n",
       "      <th>niter</th>\n",
       "      <th>success</th>\n",
       "      <th>message</th>\n",
       "    </tr>\n",
       "  </thead>\n",
       "  <tbody>\n",
       "    <tr>\n",
       "      <th>0</th>\n",
       "      <td>0</td>\n",
       "      <td>power_test</td>\n",
       "      <td>Configuration to test the Power Pulses with di...</td>\n",
       "      <td>PowerLoss</td>\n",
       "      <td>pulse_opt.integrals.loss_functions</td>\n",
       "      <td>[1.0, 1.0, 1.0, 1.0, 1.0, 1.0, 1.0, 1.0]</td>\n",
       "      <td>1.0</td>\n",
       "      <td>0.5</td>\n",
       "      <td>1</td>\n",
       "      <td>1.570796</td>\n",
       "      <td>...</td>\n",
       "      <td>0.0</td>\n",
       "      <td>12.81302</td>\n",
       "      <td>7.283849e-09</td>\n",
       "      <td>1.0</td>\n",
       "      <td>2.048000e-09</td>\n",
       "      <td>2.048000e-09</td>\n",
       "      <td>2</td>\n",
       "      <td>476</td>\n",
       "      <td>True</td>\n",
       "      <td>`xtol` termination condition is satisfied.</td>\n",
       "    </tr>\n",
       "  </tbody>\n",
       "</table>\n",
       "<p>1 rows × 38 columns</p>\n",
       "</div>"
      ],
      "text/plain": [
       "   Unnamed: 0        name                                        description  \\\n",
       "0           0  power_test  Configuration to test the Power Pulses with di...   \n",
       "\n",
       "        loss                           loss_path  \\\n",
       "0  PowerLoss  pulse_opt.integrals.loss_functions   \n",
       "\n",
       "                                    weights    a  shift  n     theta  ...  \\\n",
       "0  [1.0, 1.0, 1.0, 1.0, 1.0, 1.0, 1.0, 1.0]  1.0    0.5  1  1.570796  ...   \n",
       "\n",
       "   constr_violation  execution_time     tr_radius  constr_penalty  \\\n",
       "0               0.0        12.81302  7.283849e-09             1.0   \n",
       "\n",
       "   barrier_parameter  barrier_tolerance  status niter success  \\\n",
       "0       2.048000e-09       2.048000e-09       2   476    True   \n",
       "\n",
       "                                      message  \n",
       "0  `xtol` termination condition is satisfied.  \n",
       "\n",
       "[1 rows x 38 columns]"
      ]
     },
     "execution_count": 6,
     "metadata": {},
     "output_type": "execute_result"
    }
   ],
   "source": [
    "power_test_csv = f\"{rel_folder}/power_test/results.csv\"\n",
    "power_test_pd = pd.read_csv(power_test_csv)\n",
    "power_test_pd"
   ]
  },
  {
   "cell_type": "code",
   "execution_count": 23,
   "id": "1dad28f1",
   "metadata": {},
   "outputs": [
    {
     "data": {
      "text/plain": [
       "array(['[ 1.00066112e-03  4.60649974e+00 -5.55781796e-01 -1.80375020e+00]'],\n",
       "      dtype=object)"
      ]
     },
     "execution_count": 23,
     "metadata": {},
     "output_type": "execute_result"
    }
   ],
   "source": [
    "fourier_test_csv = f\"{rel_folder}/fourier_test/results.csv\"\n",
    "fourier_test_pd = pd.read_csv(fourier_test_csv)\n",
    "np.array(fourier_test_pd[\"x\"])"
   ]
  },
  {
   "cell_type": "code",
   "execution_count": 8,
   "id": "b3bb1f11",
   "metadata": {},
   "outputs": [
    {
     "data": {
      "text/html": [
       "<div>\n",
       "<style scoped>\n",
       "    .dataframe tbody tr th:only-of-type {\n",
       "        vertical-align: middle;\n",
       "    }\n",
       "\n",
       "    .dataframe tbody tr th {\n",
       "        vertical-align: top;\n",
       "    }\n",
       "\n",
       "    .dataframe thead th {\n",
       "        text-align: right;\n",
       "    }\n",
       "</style>\n",
       "<table border=\"1\" class=\"dataframe\">\n",
       "  <thead>\n",
       "    <tr style=\"text-align: right;\">\n",
       "      <th></th>\n",
       "      <th>Unnamed: 0</th>\n",
       "      <th>name</th>\n",
       "      <th>description</th>\n",
       "      <th>loss</th>\n",
       "      <th>loss_path</th>\n",
       "      <th>weights</th>\n",
       "      <th>a</th>\n",
       "      <th>scale</th>\n",
       "      <th>n</th>\n",
       "      <th>theta</th>\n",
       "      <th>...</th>\n",
       "      <th>x</th>\n",
       "      <th>optimality</th>\n",
       "      <th>constr_violation</th>\n",
       "      <th>execution_time</th>\n",
       "      <th>tr_radius</th>\n",
       "      <th>constr_penalty</th>\n",
       "      <th>status</th>\n",
       "      <th>niter</th>\n",
       "      <th>success</th>\n",
       "      <th>message</th>\n",
       "    </tr>\n",
       "  </thead>\n",
       "  <tbody>\n",
       "    <tr>\n",
       "      <th>0</th>\n",
       "      <td>0</td>\n",
       "      <td>gaussian_test</td>\n",
       "      <td>Configuration to test the Gaussian Pulses with...</td>\n",
       "      <td>GaussianLoss</td>\n",
       "      <td>pulse_opt.integrals.loss_functions</td>\n",
       "      <td>[1.0, 1.0, 1.0, 1.0, 1.0, 1.0, 1.0, 1.0]</td>\n",
       "      <td>1.0</td>\n",
       "      <td>0.3</td>\n",
       "      <td>1</td>\n",
       "      <td>1.570796</td>\n",
       "      <td>...</td>\n",
       "      <td>[1.10568185]</td>\n",
       "      <td>0.000000e+00</td>\n",
       "      <td>0.000000e+00</td>\n",
       "      <td>0.003000</td>\n",
       "      <td>1.000000</td>\n",
       "      <td>1.0</td>\n",
       "      <td>1</td>\n",
       "      <td>1</td>\n",
       "      <td>True</td>\n",
       "      <td>`gtol` termination condition is satisfied.</td>\n",
       "    </tr>\n",
       "    <tr>\n",
       "      <th>1</th>\n",
       "      <td>1</td>\n",
       "      <td>gaussian_test</td>\n",
       "      <td>Configuration to test the Gaussian Pulses with...</td>\n",
       "      <td>GaussianLoss</td>\n",
       "      <td>pulse_opt.integrals.loss_functions</td>\n",
       "      <td>[1.0, 1.0, 1.0, 1.0, 1.0, 1.0, 1.0, 1.0]</td>\n",
       "      <td>1.0</td>\n",
       "      <td>0.3</td>\n",
       "      <td>2</td>\n",
       "      <td>1.570796</td>\n",
       "      <td>...</td>\n",
       "      <td>[-2.69444747  4.69616519]</td>\n",
       "      <td>9.697435e-09</td>\n",
       "      <td>2.220446e-16</td>\n",
       "      <td>40.269855</td>\n",
       "      <td>8.540038</td>\n",
       "      <td>1.0</td>\n",
       "      <td>1</td>\n",
       "      <td>16</td>\n",
       "      <td>True</td>\n",
       "      <td>`gtol` termination condition is satisfied.</td>\n",
       "    </tr>\n",
       "  </tbody>\n",
       "</table>\n",
       "<p>2 rows × 36 columns</p>\n",
       "</div>"
      ],
      "text/plain": [
       "   Unnamed: 0           name  \\\n",
       "0           0  gaussian_test   \n",
       "1           1  gaussian_test   \n",
       "\n",
       "                                         description          loss  \\\n",
       "0  Configuration to test the Gaussian Pulses with...  GaussianLoss   \n",
       "1  Configuration to test the Gaussian Pulses with...  GaussianLoss   \n",
       "\n",
       "                            loss_path  \\\n",
       "0  pulse_opt.integrals.loss_functions   \n",
       "1  pulse_opt.integrals.loss_functions   \n",
       "\n",
       "                                    weights    a  scale  n     theta  ...  \\\n",
       "0  [1.0, 1.0, 1.0, 1.0, 1.0, 1.0, 1.0, 1.0]  1.0    0.3  1  1.570796  ...   \n",
       "1  [1.0, 1.0, 1.0, 1.0, 1.0, 1.0, 1.0, 1.0]  1.0    0.3  2  1.570796  ...   \n",
       "\n",
       "                           x    optimality  constr_violation  execution_time  \\\n",
       "0               [1.10568185]  0.000000e+00      0.000000e+00        0.003000   \n",
       "1  [-2.69444747  4.69616519]  9.697435e-09      2.220446e-16       40.269855   \n",
       "\n",
       "   tr_radius  constr_penalty  status niter success  \\\n",
       "0   1.000000             1.0       1     1    True   \n",
       "1   8.540038             1.0       1    16    True   \n",
       "\n",
       "                                      message  \n",
       "0  `gtol` termination condition is satisfied.  \n",
       "1  `gtol` termination condition is satisfied.  \n",
       "\n",
       "[2 rows x 36 columns]"
      ]
     },
     "execution_count": 8,
     "metadata": {},
     "output_type": "execute_result"
    }
   ],
   "source": [
    "gaussian_test_csv = f\"{rel_folder}/gaussian_test/results.csv\"\n",
    "gaussian_test_pd = pd.read_csv(gaussian_test_csv)\n",
    "gaussian_test_pd"
   ]
  },
  {
   "cell_type": "code",
   "execution_count": 30,
   "id": "d2e2001e",
   "metadata": {},
   "outputs": [
    {
     "data": {
      "text/plain": [
       "0     2.488034\n",
       "1     2.815844\n",
       "2     2.973993\n",
       "3     3.019276\n",
       "4     1.067617\n",
       "        ...   \n",
       "95    1.326142\n",
       "96    0.650123\n",
       "97    0.699805\n",
       "98    0.742382\n",
       "99    1.269399\n",
       "Name: fun, Length: 100, dtype: float64"
      ]
     },
     "execution_count": 30,
     "metadata": {},
     "output_type": "execute_result"
    }
   ],
   "source": [
    "power_small_csv = f\"{rel_folder}/power_small/results.csv\"\n",
    "power_small_pd = pd.read_csv(power_small_csv)\n",
    "power_small_pd[\"fun\"]"
   ]
  },
  {
   "cell_type": "code",
   "execution_count": 10,
   "id": "5dab5043",
   "metadata": {},
   "outputs": [
    {
     "ename": "FileNotFoundError",
     "evalue": "[Errno 2] No such file or directory: '../../results/integrals/fourier_small/results.csv'",
     "output_type": "error",
     "traceback": [
      "\u001b[1;31m---------------------------------------------------------------------------\u001b[0m",
      "\u001b[1;31mFileNotFoundError\u001b[0m                         Traceback (most recent call last)",
      "\u001b[1;32m~\\AppData\\Local\\Temp/ipykernel_16036/2400037924.py\u001b[0m in \u001b[0;36m<module>\u001b[1;34m\u001b[0m\n\u001b[0;32m      1\u001b[0m \u001b[0mfourier_small_csv\u001b[0m \u001b[1;33m=\u001b[0m \u001b[1;34mf\"{rel_folder}/fourier_small/results.csv\"\u001b[0m\u001b[1;33m\u001b[0m\u001b[1;33m\u001b[0m\u001b[0m\n\u001b[1;32m----> 2\u001b[1;33m \u001b[0mfourier_small_pd\u001b[0m \u001b[1;33m=\u001b[0m \u001b[0mpd\u001b[0m\u001b[1;33m.\u001b[0m\u001b[0mread_csv\u001b[0m\u001b[1;33m(\u001b[0m\u001b[0mfourier_small_csv\u001b[0m\u001b[1;33m)\u001b[0m\u001b[1;33m\u001b[0m\u001b[1;33m\u001b[0m\u001b[0m\n\u001b[0m\u001b[0;32m      3\u001b[0m \u001b[0mfourier_small_pd\u001b[0m\u001b[1;33m\u001b[0m\u001b[1;33m\u001b[0m\u001b[0m\n",
      "\u001b[1;32m~\\anaconda3\\lib\\site-packages\\pandas\\util\\_decorators.py\u001b[0m in \u001b[0;36mwrapper\u001b[1;34m(*args, **kwargs)\u001b[0m\n\u001b[0;32m    309\u001b[0m                     \u001b[0mstacklevel\u001b[0m\u001b[1;33m=\u001b[0m\u001b[0mstacklevel\u001b[0m\u001b[1;33m,\u001b[0m\u001b[1;33m\u001b[0m\u001b[1;33m\u001b[0m\u001b[0m\n\u001b[0;32m    310\u001b[0m                 )\n\u001b[1;32m--> 311\u001b[1;33m             \u001b[1;32mreturn\u001b[0m \u001b[0mfunc\u001b[0m\u001b[1;33m(\u001b[0m\u001b[1;33m*\u001b[0m\u001b[0margs\u001b[0m\u001b[1;33m,\u001b[0m \u001b[1;33m**\u001b[0m\u001b[0mkwargs\u001b[0m\u001b[1;33m)\u001b[0m\u001b[1;33m\u001b[0m\u001b[1;33m\u001b[0m\u001b[0m\n\u001b[0m\u001b[0;32m    312\u001b[0m \u001b[1;33m\u001b[0m\u001b[0m\n\u001b[0;32m    313\u001b[0m         \u001b[1;32mreturn\u001b[0m \u001b[0mwrapper\u001b[0m\u001b[1;33m\u001b[0m\u001b[1;33m\u001b[0m\u001b[0m\n",
      "\u001b[1;32m~\\anaconda3\\lib\\site-packages\\pandas\\io\\parsers\\readers.py\u001b[0m in \u001b[0;36mread_csv\u001b[1;34m(filepath_or_buffer, sep, delimiter, header, names, index_col, usecols, squeeze, prefix, mangle_dupe_cols, dtype, engine, converters, true_values, false_values, skipinitialspace, skiprows, skipfooter, nrows, na_values, keep_default_na, na_filter, verbose, skip_blank_lines, parse_dates, infer_datetime_format, keep_date_col, date_parser, dayfirst, cache_dates, iterator, chunksize, compression, thousands, decimal, lineterminator, quotechar, quoting, doublequote, escapechar, comment, encoding, encoding_errors, dialect, error_bad_lines, warn_bad_lines, on_bad_lines, delim_whitespace, low_memory, memory_map, float_precision, storage_options)\u001b[0m\n\u001b[0;32m    584\u001b[0m     \u001b[0mkwds\u001b[0m\u001b[1;33m.\u001b[0m\u001b[0mupdate\u001b[0m\u001b[1;33m(\u001b[0m\u001b[0mkwds_defaults\u001b[0m\u001b[1;33m)\u001b[0m\u001b[1;33m\u001b[0m\u001b[1;33m\u001b[0m\u001b[0m\n\u001b[0;32m    585\u001b[0m \u001b[1;33m\u001b[0m\u001b[0m\n\u001b[1;32m--> 586\u001b[1;33m     \u001b[1;32mreturn\u001b[0m \u001b[0m_read\u001b[0m\u001b[1;33m(\u001b[0m\u001b[0mfilepath_or_buffer\u001b[0m\u001b[1;33m,\u001b[0m \u001b[0mkwds\u001b[0m\u001b[1;33m)\u001b[0m\u001b[1;33m\u001b[0m\u001b[1;33m\u001b[0m\u001b[0m\n\u001b[0m\u001b[0;32m    587\u001b[0m \u001b[1;33m\u001b[0m\u001b[0m\n\u001b[0;32m    588\u001b[0m \u001b[1;33m\u001b[0m\u001b[0m\n",
      "\u001b[1;32m~\\anaconda3\\lib\\site-packages\\pandas\\io\\parsers\\readers.py\u001b[0m in \u001b[0;36m_read\u001b[1;34m(filepath_or_buffer, kwds)\u001b[0m\n\u001b[0;32m    480\u001b[0m \u001b[1;33m\u001b[0m\u001b[0m\n\u001b[0;32m    481\u001b[0m     \u001b[1;31m# Create the parser.\u001b[0m\u001b[1;33m\u001b[0m\u001b[1;33m\u001b[0m\u001b[0m\n\u001b[1;32m--> 482\u001b[1;33m     \u001b[0mparser\u001b[0m \u001b[1;33m=\u001b[0m \u001b[0mTextFileReader\u001b[0m\u001b[1;33m(\u001b[0m\u001b[0mfilepath_or_buffer\u001b[0m\u001b[1;33m,\u001b[0m \u001b[1;33m**\u001b[0m\u001b[0mkwds\u001b[0m\u001b[1;33m)\u001b[0m\u001b[1;33m\u001b[0m\u001b[1;33m\u001b[0m\u001b[0m\n\u001b[0m\u001b[0;32m    483\u001b[0m \u001b[1;33m\u001b[0m\u001b[0m\n\u001b[0;32m    484\u001b[0m     \u001b[1;32mif\u001b[0m \u001b[0mchunksize\u001b[0m \u001b[1;32mor\u001b[0m \u001b[0miterator\u001b[0m\u001b[1;33m:\u001b[0m\u001b[1;33m\u001b[0m\u001b[1;33m\u001b[0m\u001b[0m\n",
      "\u001b[1;32m~\\anaconda3\\lib\\site-packages\\pandas\\io\\parsers\\readers.py\u001b[0m in \u001b[0;36m__init__\u001b[1;34m(self, f, engine, **kwds)\u001b[0m\n\u001b[0;32m    809\u001b[0m             \u001b[0mself\u001b[0m\u001b[1;33m.\u001b[0m\u001b[0moptions\u001b[0m\u001b[1;33m[\u001b[0m\u001b[1;34m\"has_index_names\"\u001b[0m\u001b[1;33m]\u001b[0m \u001b[1;33m=\u001b[0m \u001b[0mkwds\u001b[0m\u001b[1;33m[\u001b[0m\u001b[1;34m\"has_index_names\"\u001b[0m\u001b[1;33m]\u001b[0m\u001b[1;33m\u001b[0m\u001b[1;33m\u001b[0m\u001b[0m\n\u001b[0;32m    810\u001b[0m \u001b[1;33m\u001b[0m\u001b[0m\n\u001b[1;32m--> 811\u001b[1;33m         \u001b[0mself\u001b[0m\u001b[1;33m.\u001b[0m\u001b[0m_engine\u001b[0m \u001b[1;33m=\u001b[0m \u001b[0mself\u001b[0m\u001b[1;33m.\u001b[0m\u001b[0m_make_engine\u001b[0m\u001b[1;33m(\u001b[0m\u001b[0mself\u001b[0m\u001b[1;33m.\u001b[0m\u001b[0mengine\u001b[0m\u001b[1;33m)\u001b[0m\u001b[1;33m\u001b[0m\u001b[1;33m\u001b[0m\u001b[0m\n\u001b[0m\u001b[0;32m    812\u001b[0m \u001b[1;33m\u001b[0m\u001b[0m\n\u001b[0;32m    813\u001b[0m     \u001b[1;32mdef\u001b[0m \u001b[0mclose\u001b[0m\u001b[1;33m(\u001b[0m\u001b[0mself\u001b[0m\u001b[1;33m)\u001b[0m\u001b[1;33m:\u001b[0m\u001b[1;33m\u001b[0m\u001b[1;33m\u001b[0m\u001b[0m\n",
      "\u001b[1;32m~\\anaconda3\\lib\\site-packages\\pandas\\io\\parsers\\readers.py\u001b[0m in \u001b[0;36m_make_engine\u001b[1;34m(self, engine)\u001b[0m\n\u001b[0;32m   1038\u001b[0m             )\n\u001b[0;32m   1039\u001b[0m         \u001b[1;31m# error: Too many arguments for \"ParserBase\"\u001b[0m\u001b[1;33m\u001b[0m\u001b[1;33m\u001b[0m\u001b[0m\n\u001b[1;32m-> 1040\u001b[1;33m         \u001b[1;32mreturn\u001b[0m \u001b[0mmapping\u001b[0m\u001b[1;33m[\u001b[0m\u001b[0mengine\u001b[0m\u001b[1;33m]\u001b[0m\u001b[1;33m(\u001b[0m\u001b[0mself\u001b[0m\u001b[1;33m.\u001b[0m\u001b[0mf\u001b[0m\u001b[1;33m,\u001b[0m \u001b[1;33m**\u001b[0m\u001b[0mself\u001b[0m\u001b[1;33m.\u001b[0m\u001b[0moptions\u001b[0m\u001b[1;33m)\u001b[0m  \u001b[1;31m# type: ignore[call-arg]\u001b[0m\u001b[1;33m\u001b[0m\u001b[1;33m\u001b[0m\u001b[0m\n\u001b[0m\u001b[0;32m   1041\u001b[0m \u001b[1;33m\u001b[0m\u001b[0m\n\u001b[0;32m   1042\u001b[0m     \u001b[1;32mdef\u001b[0m \u001b[0m_failover_to_python\u001b[0m\u001b[1;33m(\u001b[0m\u001b[0mself\u001b[0m\u001b[1;33m)\u001b[0m\u001b[1;33m:\u001b[0m\u001b[1;33m\u001b[0m\u001b[1;33m\u001b[0m\u001b[0m\n",
      "\u001b[1;32m~\\anaconda3\\lib\\site-packages\\pandas\\io\\parsers\\c_parser_wrapper.py\u001b[0m in \u001b[0;36m__init__\u001b[1;34m(self, src, **kwds)\u001b[0m\n\u001b[0;32m     49\u001b[0m \u001b[1;33m\u001b[0m\u001b[0m\n\u001b[0;32m     50\u001b[0m         \u001b[1;31m# open handles\u001b[0m\u001b[1;33m\u001b[0m\u001b[1;33m\u001b[0m\u001b[0m\n\u001b[1;32m---> 51\u001b[1;33m         \u001b[0mself\u001b[0m\u001b[1;33m.\u001b[0m\u001b[0m_open_handles\u001b[0m\u001b[1;33m(\u001b[0m\u001b[0msrc\u001b[0m\u001b[1;33m,\u001b[0m \u001b[0mkwds\u001b[0m\u001b[1;33m)\u001b[0m\u001b[1;33m\u001b[0m\u001b[1;33m\u001b[0m\u001b[0m\n\u001b[0m\u001b[0;32m     52\u001b[0m         \u001b[1;32massert\u001b[0m \u001b[0mself\u001b[0m\u001b[1;33m.\u001b[0m\u001b[0mhandles\u001b[0m \u001b[1;32mis\u001b[0m \u001b[1;32mnot\u001b[0m \u001b[1;32mNone\u001b[0m\u001b[1;33m\u001b[0m\u001b[1;33m\u001b[0m\u001b[0m\n\u001b[0;32m     53\u001b[0m \u001b[1;33m\u001b[0m\u001b[0m\n",
      "\u001b[1;32m~\\anaconda3\\lib\\site-packages\\pandas\\io\\parsers\\base_parser.py\u001b[0m in \u001b[0;36m_open_handles\u001b[1;34m(self, src, kwds)\u001b[0m\n\u001b[0;32m    220\u001b[0m         \u001b[0mLet\u001b[0m \u001b[0mthe\u001b[0m \u001b[0mreaders\u001b[0m \u001b[0mopen\u001b[0m \u001b[0mIOHandles\u001b[0m \u001b[0mafter\u001b[0m \u001b[0mthey\u001b[0m \u001b[0mare\u001b[0m \u001b[0mdone\u001b[0m \u001b[1;32mwith\u001b[0m \u001b[0mtheir\u001b[0m \u001b[0mpotential\u001b[0m \u001b[0mraises\u001b[0m\u001b[1;33m.\u001b[0m\u001b[1;33m\u001b[0m\u001b[1;33m\u001b[0m\u001b[0m\n\u001b[0;32m    221\u001b[0m         \"\"\"\n\u001b[1;32m--> 222\u001b[1;33m         self.handles = get_handle(\n\u001b[0m\u001b[0;32m    223\u001b[0m             \u001b[0msrc\u001b[0m\u001b[1;33m,\u001b[0m\u001b[1;33m\u001b[0m\u001b[1;33m\u001b[0m\u001b[0m\n\u001b[0;32m    224\u001b[0m             \u001b[1;34m\"r\"\u001b[0m\u001b[1;33m,\u001b[0m\u001b[1;33m\u001b[0m\u001b[1;33m\u001b[0m\u001b[0m\n",
      "\u001b[1;32m~\\anaconda3\\lib\\site-packages\\pandas\\io\\common.py\u001b[0m in \u001b[0;36mget_handle\u001b[1;34m(path_or_buf, mode, encoding, compression, memory_map, is_text, errors, storage_options)\u001b[0m\n\u001b[0;32m    700\u001b[0m         \u001b[1;32mif\u001b[0m \u001b[0mioargs\u001b[0m\u001b[1;33m.\u001b[0m\u001b[0mencoding\u001b[0m \u001b[1;32mand\u001b[0m \u001b[1;34m\"b\"\u001b[0m \u001b[1;32mnot\u001b[0m \u001b[1;32min\u001b[0m \u001b[0mioargs\u001b[0m\u001b[1;33m.\u001b[0m\u001b[0mmode\u001b[0m\u001b[1;33m:\u001b[0m\u001b[1;33m\u001b[0m\u001b[1;33m\u001b[0m\u001b[0m\n\u001b[0;32m    701\u001b[0m             \u001b[1;31m# Encoding\u001b[0m\u001b[1;33m\u001b[0m\u001b[1;33m\u001b[0m\u001b[0m\n\u001b[1;32m--> 702\u001b[1;33m             handle = open(\n\u001b[0m\u001b[0;32m    703\u001b[0m                 \u001b[0mhandle\u001b[0m\u001b[1;33m,\u001b[0m\u001b[1;33m\u001b[0m\u001b[1;33m\u001b[0m\u001b[0m\n\u001b[0;32m    704\u001b[0m                 \u001b[0mioargs\u001b[0m\u001b[1;33m.\u001b[0m\u001b[0mmode\u001b[0m\u001b[1;33m,\u001b[0m\u001b[1;33m\u001b[0m\u001b[1;33m\u001b[0m\u001b[0m\n",
      "\u001b[1;31mFileNotFoundError\u001b[0m: [Errno 2] No such file or directory: '../../results/integrals/fourier_small/results.csv'"
     ]
    }
   ],
   "source": [
    "fourier_small_csv = f\"{rel_folder}/fourier_small/results.csv\"\n",
    "fourier_small_pd = pd.read_csv(fourier_small_csv)\n",
    "fourier_small_pd"
   ]
  },
  {
   "cell_type": "code",
   "execution_count": 11,
   "id": "cad99e71",
   "metadata": {},
   "outputs": [
    {
     "ename": "FileNotFoundError",
     "evalue": "[Errno 2] No such file or directory: '../../results/integrals/gaussian_small/results.csv'",
     "output_type": "error",
     "traceback": [
      "\u001b[1;31m---------------------------------------------------------------------------\u001b[0m",
      "\u001b[1;31mFileNotFoundError\u001b[0m                         Traceback (most recent call last)",
      "\u001b[1;32m~\\AppData\\Local\\Temp/ipykernel_16036/3993153507.py\u001b[0m in \u001b[0;36m<module>\u001b[1;34m\u001b[0m\n\u001b[0;32m      1\u001b[0m \u001b[0mgaussian_small_csv\u001b[0m \u001b[1;33m=\u001b[0m \u001b[1;34mf\"{rel_folder}/gaussian_small/results.csv\"\u001b[0m\u001b[1;33m\u001b[0m\u001b[1;33m\u001b[0m\u001b[0m\n\u001b[1;32m----> 2\u001b[1;33m \u001b[0mgaussian_small_pd\u001b[0m \u001b[1;33m=\u001b[0m \u001b[0mpd\u001b[0m\u001b[1;33m.\u001b[0m\u001b[0mread_csv\u001b[0m\u001b[1;33m(\u001b[0m\u001b[0mgaussian_small_csv\u001b[0m\u001b[1;33m)\u001b[0m\u001b[1;33m\u001b[0m\u001b[1;33m\u001b[0m\u001b[0m\n\u001b[0m\u001b[0;32m      3\u001b[0m \u001b[0mgaussian_small_pd\u001b[0m\u001b[1;33m\u001b[0m\u001b[1;33m\u001b[0m\u001b[0m\n",
      "\u001b[1;32m~\\anaconda3\\lib\\site-packages\\pandas\\util\\_decorators.py\u001b[0m in \u001b[0;36mwrapper\u001b[1;34m(*args, **kwargs)\u001b[0m\n\u001b[0;32m    309\u001b[0m                     \u001b[0mstacklevel\u001b[0m\u001b[1;33m=\u001b[0m\u001b[0mstacklevel\u001b[0m\u001b[1;33m,\u001b[0m\u001b[1;33m\u001b[0m\u001b[1;33m\u001b[0m\u001b[0m\n\u001b[0;32m    310\u001b[0m                 )\n\u001b[1;32m--> 311\u001b[1;33m             \u001b[1;32mreturn\u001b[0m \u001b[0mfunc\u001b[0m\u001b[1;33m(\u001b[0m\u001b[1;33m*\u001b[0m\u001b[0margs\u001b[0m\u001b[1;33m,\u001b[0m \u001b[1;33m**\u001b[0m\u001b[0mkwargs\u001b[0m\u001b[1;33m)\u001b[0m\u001b[1;33m\u001b[0m\u001b[1;33m\u001b[0m\u001b[0m\n\u001b[0m\u001b[0;32m    312\u001b[0m \u001b[1;33m\u001b[0m\u001b[0m\n\u001b[0;32m    313\u001b[0m         \u001b[1;32mreturn\u001b[0m \u001b[0mwrapper\u001b[0m\u001b[1;33m\u001b[0m\u001b[1;33m\u001b[0m\u001b[0m\n",
      "\u001b[1;32m~\\anaconda3\\lib\\site-packages\\pandas\\io\\parsers\\readers.py\u001b[0m in \u001b[0;36mread_csv\u001b[1;34m(filepath_or_buffer, sep, delimiter, header, names, index_col, usecols, squeeze, prefix, mangle_dupe_cols, dtype, engine, converters, true_values, false_values, skipinitialspace, skiprows, skipfooter, nrows, na_values, keep_default_na, na_filter, verbose, skip_blank_lines, parse_dates, infer_datetime_format, keep_date_col, date_parser, dayfirst, cache_dates, iterator, chunksize, compression, thousands, decimal, lineterminator, quotechar, quoting, doublequote, escapechar, comment, encoding, encoding_errors, dialect, error_bad_lines, warn_bad_lines, on_bad_lines, delim_whitespace, low_memory, memory_map, float_precision, storage_options)\u001b[0m\n\u001b[0;32m    584\u001b[0m     \u001b[0mkwds\u001b[0m\u001b[1;33m.\u001b[0m\u001b[0mupdate\u001b[0m\u001b[1;33m(\u001b[0m\u001b[0mkwds_defaults\u001b[0m\u001b[1;33m)\u001b[0m\u001b[1;33m\u001b[0m\u001b[1;33m\u001b[0m\u001b[0m\n\u001b[0;32m    585\u001b[0m \u001b[1;33m\u001b[0m\u001b[0m\n\u001b[1;32m--> 586\u001b[1;33m     \u001b[1;32mreturn\u001b[0m \u001b[0m_read\u001b[0m\u001b[1;33m(\u001b[0m\u001b[0mfilepath_or_buffer\u001b[0m\u001b[1;33m,\u001b[0m \u001b[0mkwds\u001b[0m\u001b[1;33m)\u001b[0m\u001b[1;33m\u001b[0m\u001b[1;33m\u001b[0m\u001b[0m\n\u001b[0m\u001b[0;32m    587\u001b[0m \u001b[1;33m\u001b[0m\u001b[0m\n\u001b[0;32m    588\u001b[0m \u001b[1;33m\u001b[0m\u001b[0m\n",
      "\u001b[1;32m~\\anaconda3\\lib\\site-packages\\pandas\\io\\parsers\\readers.py\u001b[0m in \u001b[0;36m_read\u001b[1;34m(filepath_or_buffer, kwds)\u001b[0m\n\u001b[0;32m    480\u001b[0m \u001b[1;33m\u001b[0m\u001b[0m\n\u001b[0;32m    481\u001b[0m     \u001b[1;31m# Create the parser.\u001b[0m\u001b[1;33m\u001b[0m\u001b[1;33m\u001b[0m\u001b[0m\n\u001b[1;32m--> 482\u001b[1;33m     \u001b[0mparser\u001b[0m \u001b[1;33m=\u001b[0m \u001b[0mTextFileReader\u001b[0m\u001b[1;33m(\u001b[0m\u001b[0mfilepath_or_buffer\u001b[0m\u001b[1;33m,\u001b[0m \u001b[1;33m**\u001b[0m\u001b[0mkwds\u001b[0m\u001b[1;33m)\u001b[0m\u001b[1;33m\u001b[0m\u001b[1;33m\u001b[0m\u001b[0m\n\u001b[0m\u001b[0;32m    483\u001b[0m \u001b[1;33m\u001b[0m\u001b[0m\n\u001b[0;32m    484\u001b[0m     \u001b[1;32mif\u001b[0m \u001b[0mchunksize\u001b[0m \u001b[1;32mor\u001b[0m \u001b[0miterator\u001b[0m\u001b[1;33m:\u001b[0m\u001b[1;33m\u001b[0m\u001b[1;33m\u001b[0m\u001b[0m\n",
      "\u001b[1;32m~\\anaconda3\\lib\\site-packages\\pandas\\io\\parsers\\readers.py\u001b[0m in \u001b[0;36m__init__\u001b[1;34m(self, f, engine, **kwds)\u001b[0m\n\u001b[0;32m    809\u001b[0m             \u001b[0mself\u001b[0m\u001b[1;33m.\u001b[0m\u001b[0moptions\u001b[0m\u001b[1;33m[\u001b[0m\u001b[1;34m\"has_index_names\"\u001b[0m\u001b[1;33m]\u001b[0m \u001b[1;33m=\u001b[0m \u001b[0mkwds\u001b[0m\u001b[1;33m[\u001b[0m\u001b[1;34m\"has_index_names\"\u001b[0m\u001b[1;33m]\u001b[0m\u001b[1;33m\u001b[0m\u001b[1;33m\u001b[0m\u001b[0m\n\u001b[0;32m    810\u001b[0m \u001b[1;33m\u001b[0m\u001b[0m\n\u001b[1;32m--> 811\u001b[1;33m         \u001b[0mself\u001b[0m\u001b[1;33m.\u001b[0m\u001b[0m_engine\u001b[0m \u001b[1;33m=\u001b[0m \u001b[0mself\u001b[0m\u001b[1;33m.\u001b[0m\u001b[0m_make_engine\u001b[0m\u001b[1;33m(\u001b[0m\u001b[0mself\u001b[0m\u001b[1;33m.\u001b[0m\u001b[0mengine\u001b[0m\u001b[1;33m)\u001b[0m\u001b[1;33m\u001b[0m\u001b[1;33m\u001b[0m\u001b[0m\n\u001b[0m\u001b[0;32m    812\u001b[0m \u001b[1;33m\u001b[0m\u001b[0m\n\u001b[0;32m    813\u001b[0m     \u001b[1;32mdef\u001b[0m \u001b[0mclose\u001b[0m\u001b[1;33m(\u001b[0m\u001b[0mself\u001b[0m\u001b[1;33m)\u001b[0m\u001b[1;33m:\u001b[0m\u001b[1;33m\u001b[0m\u001b[1;33m\u001b[0m\u001b[0m\n",
      "\u001b[1;32m~\\anaconda3\\lib\\site-packages\\pandas\\io\\parsers\\readers.py\u001b[0m in \u001b[0;36m_make_engine\u001b[1;34m(self, engine)\u001b[0m\n\u001b[0;32m   1038\u001b[0m             )\n\u001b[0;32m   1039\u001b[0m         \u001b[1;31m# error: Too many arguments for \"ParserBase\"\u001b[0m\u001b[1;33m\u001b[0m\u001b[1;33m\u001b[0m\u001b[0m\n\u001b[1;32m-> 1040\u001b[1;33m         \u001b[1;32mreturn\u001b[0m \u001b[0mmapping\u001b[0m\u001b[1;33m[\u001b[0m\u001b[0mengine\u001b[0m\u001b[1;33m]\u001b[0m\u001b[1;33m(\u001b[0m\u001b[0mself\u001b[0m\u001b[1;33m.\u001b[0m\u001b[0mf\u001b[0m\u001b[1;33m,\u001b[0m \u001b[1;33m**\u001b[0m\u001b[0mself\u001b[0m\u001b[1;33m.\u001b[0m\u001b[0moptions\u001b[0m\u001b[1;33m)\u001b[0m  \u001b[1;31m# type: ignore[call-arg]\u001b[0m\u001b[1;33m\u001b[0m\u001b[1;33m\u001b[0m\u001b[0m\n\u001b[0m\u001b[0;32m   1041\u001b[0m \u001b[1;33m\u001b[0m\u001b[0m\n\u001b[0;32m   1042\u001b[0m     \u001b[1;32mdef\u001b[0m \u001b[0m_failover_to_python\u001b[0m\u001b[1;33m(\u001b[0m\u001b[0mself\u001b[0m\u001b[1;33m)\u001b[0m\u001b[1;33m:\u001b[0m\u001b[1;33m\u001b[0m\u001b[1;33m\u001b[0m\u001b[0m\n",
      "\u001b[1;32m~\\anaconda3\\lib\\site-packages\\pandas\\io\\parsers\\c_parser_wrapper.py\u001b[0m in \u001b[0;36m__init__\u001b[1;34m(self, src, **kwds)\u001b[0m\n\u001b[0;32m     49\u001b[0m \u001b[1;33m\u001b[0m\u001b[0m\n\u001b[0;32m     50\u001b[0m         \u001b[1;31m# open handles\u001b[0m\u001b[1;33m\u001b[0m\u001b[1;33m\u001b[0m\u001b[0m\n\u001b[1;32m---> 51\u001b[1;33m         \u001b[0mself\u001b[0m\u001b[1;33m.\u001b[0m\u001b[0m_open_handles\u001b[0m\u001b[1;33m(\u001b[0m\u001b[0msrc\u001b[0m\u001b[1;33m,\u001b[0m \u001b[0mkwds\u001b[0m\u001b[1;33m)\u001b[0m\u001b[1;33m\u001b[0m\u001b[1;33m\u001b[0m\u001b[0m\n\u001b[0m\u001b[0;32m     52\u001b[0m         \u001b[1;32massert\u001b[0m \u001b[0mself\u001b[0m\u001b[1;33m.\u001b[0m\u001b[0mhandles\u001b[0m \u001b[1;32mis\u001b[0m \u001b[1;32mnot\u001b[0m \u001b[1;32mNone\u001b[0m\u001b[1;33m\u001b[0m\u001b[1;33m\u001b[0m\u001b[0m\n\u001b[0;32m     53\u001b[0m \u001b[1;33m\u001b[0m\u001b[0m\n",
      "\u001b[1;32m~\\anaconda3\\lib\\site-packages\\pandas\\io\\parsers\\base_parser.py\u001b[0m in \u001b[0;36m_open_handles\u001b[1;34m(self, src, kwds)\u001b[0m\n\u001b[0;32m    220\u001b[0m         \u001b[0mLet\u001b[0m \u001b[0mthe\u001b[0m \u001b[0mreaders\u001b[0m \u001b[0mopen\u001b[0m \u001b[0mIOHandles\u001b[0m \u001b[0mafter\u001b[0m \u001b[0mthey\u001b[0m \u001b[0mare\u001b[0m \u001b[0mdone\u001b[0m \u001b[1;32mwith\u001b[0m \u001b[0mtheir\u001b[0m \u001b[0mpotential\u001b[0m \u001b[0mraises\u001b[0m\u001b[1;33m.\u001b[0m\u001b[1;33m\u001b[0m\u001b[1;33m\u001b[0m\u001b[0m\n\u001b[0;32m    221\u001b[0m         \"\"\"\n\u001b[1;32m--> 222\u001b[1;33m         self.handles = get_handle(\n\u001b[0m\u001b[0;32m    223\u001b[0m             \u001b[0msrc\u001b[0m\u001b[1;33m,\u001b[0m\u001b[1;33m\u001b[0m\u001b[1;33m\u001b[0m\u001b[0m\n\u001b[0;32m    224\u001b[0m             \u001b[1;34m\"r\"\u001b[0m\u001b[1;33m,\u001b[0m\u001b[1;33m\u001b[0m\u001b[1;33m\u001b[0m\u001b[0m\n",
      "\u001b[1;32m~\\anaconda3\\lib\\site-packages\\pandas\\io\\common.py\u001b[0m in \u001b[0;36mget_handle\u001b[1;34m(path_or_buf, mode, encoding, compression, memory_map, is_text, errors, storage_options)\u001b[0m\n\u001b[0;32m    700\u001b[0m         \u001b[1;32mif\u001b[0m \u001b[0mioargs\u001b[0m\u001b[1;33m.\u001b[0m\u001b[0mencoding\u001b[0m \u001b[1;32mand\u001b[0m \u001b[1;34m\"b\"\u001b[0m \u001b[1;32mnot\u001b[0m \u001b[1;32min\u001b[0m \u001b[0mioargs\u001b[0m\u001b[1;33m.\u001b[0m\u001b[0mmode\u001b[0m\u001b[1;33m:\u001b[0m\u001b[1;33m\u001b[0m\u001b[1;33m\u001b[0m\u001b[0m\n\u001b[0;32m    701\u001b[0m             \u001b[1;31m# Encoding\u001b[0m\u001b[1;33m\u001b[0m\u001b[1;33m\u001b[0m\u001b[0m\n\u001b[1;32m--> 702\u001b[1;33m             handle = open(\n\u001b[0m\u001b[0;32m    703\u001b[0m                 \u001b[0mhandle\u001b[0m\u001b[1;33m,\u001b[0m\u001b[1;33m\u001b[0m\u001b[1;33m\u001b[0m\u001b[0m\n\u001b[0;32m    704\u001b[0m                 \u001b[0mioargs\u001b[0m\u001b[1;33m.\u001b[0m\u001b[0mmode\u001b[0m\u001b[1;33m,\u001b[0m\u001b[1;33m\u001b[0m\u001b[1;33m\u001b[0m\u001b[0m\n",
      "\u001b[1;31mFileNotFoundError\u001b[0m: [Errno 2] No such file or directory: '../../results/integrals/gaussian_small/results.csv'"
     ]
    }
   ],
   "source": [
    "gaussian_small_csv = f\"{rel_folder}/gaussian_small/results.csv\"\n",
    "gaussian_small_pd = pd.read_csv(gaussian_small_csv)\n",
    "gaussian_small_pd"
   ]
  },
  {
   "cell_type": "markdown",
   "id": "da87b4da",
   "metadata": {},
   "source": [
    "## Prepare pulse lookups"
   ]
  },
  {
   "cell_type": "code",
   "execution_count": 12,
   "id": "73d5f143",
   "metadata": {},
   "outputs": [
    {
     "ename": "TypeError",
     "evalue": "len() of unsized object",
     "output_type": "error",
     "traceback": [
      "\u001b[1;31m---------------------------------------------------------------------------\u001b[0m",
      "\u001b[1;31mTypeError\u001b[0m                                 Traceback (most recent call last)",
      "\u001b[1;32m~\\AppData\\Local\\Temp/ipykernel_16036/1782503543.py\u001b[0m in \u001b[0;36m<module>\u001b[1;34m\u001b[0m\n\u001b[0;32m      8\u001b[0m     \u001b[0mx\u001b[0m \u001b[1;33m=\u001b[0m \u001b[0mnp\u001b[0m\u001b[1;33m.\u001b[0m\u001b[0marray\u001b[0m\u001b[1;33m(\u001b[0m\u001b[0mrow\u001b[0m\u001b[1;33m[\u001b[0m\u001b[1;36m1\u001b[0m\u001b[1;33m]\u001b[0m\u001b[1;33m[\u001b[0m\u001b[1;34m\"x\"\u001b[0m\u001b[1;33m]\u001b[0m\u001b[1;33m)\u001b[0m\u001b[1;33m\u001b[0m\u001b[1;33m\u001b[0m\u001b[0m\n\u001b[0;32m      9\u001b[0m     \u001b[0mpulse_factory\u001b[0m \u001b[1;33m=\u001b[0m \u001b[0mPowerFactory\u001b[0m\u001b[1;33m(\u001b[0m\u001b[0mn\u001b[0m\u001b[1;33m=\u001b[0m\u001b[0mn\u001b[0m\u001b[1;33m,\u001b[0m \u001b[0mshift\u001b[0m\u001b[1;33m=\u001b[0m\u001b[0mshift\u001b[0m\u001b[1;33m,\u001b[0m \u001b[0mperform_checks\u001b[0m\u001b[1;33m=\u001b[0m\u001b[1;32mFalse\u001b[0m\u001b[1;33m)\u001b[0m\u001b[1;33m\u001b[0m\u001b[1;33m\u001b[0m\u001b[0m\n\u001b[1;32m---> 10\u001b[1;33m     \u001b[0mpulse\u001b[0m \u001b[1;33m=\u001b[0m \u001b[0mpulse_factory\u001b[0m\u001b[1;33m.\u001b[0m\u001b[0msample\u001b[0m\u001b[1;33m(\u001b[0m\u001b[0mx\u001b[0m\u001b[1;33m)\u001b[0m\u001b[1;33m\u001b[0m\u001b[1;33m\u001b[0m\u001b[0m\n\u001b[0m\u001b[0;32m     11\u001b[0m     \u001b[0mpower_small_lookup\u001b[0m\u001b[1;33m.\u001b[0m\u001b[0mupdate\u001b[0m\u001b[1;33m(\u001b[0m\u001b[1;33m{\u001b[0m\u001b[1;34mf\"n_{row['n']}_shift_{row['shift']}\"\u001b[0m\u001b[1;33m:\u001b[0m \u001b[0mpulse\u001b[0m\u001b[1;33m}\u001b[0m\u001b[1;33m)\u001b[0m\u001b[1;33m\u001b[0m\u001b[1;33m\u001b[0m\u001b[0m\n\u001b[0;32m     12\u001b[0m     \u001b[0mpower_fun_lookup\u001b[0m\u001b[1;33m.\u001b[0m\u001b[0mupdate\u001b[0m\u001b[1;33m(\u001b[0m\u001b[1;33m{\u001b[0m\u001b[1;34mf\"n_{n}_shift_{shift}\"\u001b[0m\u001b[1;33m:\u001b[0m \u001b[0mfun\u001b[0m\u001b[1;33m}\u001b[0m\u001b[1;33m)\u001b[0m\u001b[1;33m\u001b[0m\u001b[1;33m\u001b[0m\u001b[0m\n",
      "\u001b[1;32m~\\Desktop\\Masterarbeit\\Code\\pulse-optimization\\notebooks\\integrals\\../..\\pulse_opt\\pulses\\pulse_factory.py\u001b[0m in \u001b[0;36msample\u001b[1;34m(self, coefficients)\u001b[0m\n\u001b[0;32m     28\u001b[0m                 \u001b[0mthis\u001b[0m \u001b[1;32mis\u001b[0m \u001b[0mpossible\u001b[0m \u001b[0mvia\u001b[0m \u001b[0mthe\u001b[0m \u001b[0mconstraint\u001b[0m \u001b[0mthat\u001b[0m \u001b[1;32mis\u001b[0m \u001b[0maccessible\u001b[0m \u001b[1;32min\u001b[0m \u001b[0mself\u001b[0m\u001b[1;33m.\u001b[0m\u001b[0mbasis\u001b[0m\u001b[1;33m.\u001b[0m\u001b[0mconstraints\u001b[0m\u001b[1;33m.\u001b[0m\u001b[1;33m\u001b[0m\u001b[1;33m\u001b[0m\u001b[0m\n\u001b[0;32m     29\u001b[0m         \"\"\"\n\u001b[1;32m---> 30\u001b[1;33m         \u001b[0mself\u001b[0m\u001b[1;33m.\u001b[0m\u001b[0m_verify_coefficients\u001b[0m\u001b[1;33m(\u001b[0m\u001b[0mcoefficients\u001b[0m\u001b[1;33m)\u001b[0m\u001b[1;33m\u001b[0m\u001b[1;33m\u001b[0m\u001b[0m\n\u001b[0m\u001b[0;32m     31\u001b[0m         return Pulse(\n\u001b[0;32m     32\u001b[0m             \u001b[0mpulse\u001b[0m\u001b[1;33m=\u001b[0m\u001b[0mself\u001b[0m\u001b[1;33m.\u001b[0m\u001b[0m_get_waveform\u001b[0m\u001b[1;33m(\u001b[0m\u001b[0mcoefficients\u001b[0m\u001b[1;33m)\u001b[0m\u001b[1;33m,\u001b[0m\u001b[1;33m\u001b[0m\u001b[1;33m\u001b[0m\u001b[0m\n",
      "\u001b[1;32m~\\Desktop\\Masterarbeit\\Code\\pulse-optimization\\notebooks\\integrals\\../..\\pulse_opt\\pulses\\pulse_factory.py\u001b[0m in \u001b[0;36m_verify_coefficients\u001b[1;34m(self, coefficients)\u001b[0m\n\u001b[0;32m     44\u001b[0m         \"\"\" Raises an exception if the coefficients are not valid.\n\u001b[0;32m     45\u001b[0m         \"\"\"\n\u001b[1;32m---> 46\u001b[1;33m         \u001b[1;32mif\u001b[0m \u001b[1;32mnot\u001b[0m \u001b[0mself\u001b[0m\u001b[1;33m.\u001b[0m\u001b[0mbasis\u001b[0m\u001b[1;33m.\u001b[0m\u001b[0mcoefficient_are_valid\u001b[0m\u001b[1;33m(\u001b[0m\u001b[0mcoefficients\u001b[0m\u001b[1;33m,\u001b[0m \u001b[0mabs_error\u001b[0m\u001b[1;33m=\u001b[0m\u001b[0mself\u001b[0m\u001b[1;33m.\u001b[0m\u001b[0mabs_error\u001b[0m\u001b[1;33m)\u001b[0m\u001b[1;33m:\u001b[0m\u001b[1;33m\u001b[0m\u001b[1;33m\u001b[0m\u001b[0m\n\u001b[0m\u001b[0;32m     47\u001b[0m             \u001b[1;32mraise\u001b[0m \u001b[0mValueError\u001b[0m\u001b[1;33m(\u001b[0m\u001b[1;34mf\"Expected valid coefficients, but found otherwise. Coefficients: {coefficients}.\"\u001b[0m\u001b[1;33m)\u001b[0m\u001b[1;33m\u001b[0m\u001b[1;33m\u001b[0m\u001b[0m\n",
      "\u001b[1;32m~\\Desktop\\Masterarbeit\\Code\\pulse-optimization\\notebooks\\integrals\\../..\\pulse_opt\\pulses\\basis.py\u001b[0m in \u001b[0;36mcoefficient_are_valid\u001b[1;34m(self, coefficients, abs_error)\u001b[0m\n\u001b[0;32m    108\u001b[0m         \"\"\" Returns whether or not the coefficients produce a normalized pulse.\n\u001b[0;32m    109\u001b[0m         \"\"\"\n\u001b[1;32m--> 110\u001b[1;33m         \u001b[1;32mif\u001b[0m \u001b[0mlen\u001b[0m\u001b[1;33m(\u001b[0m\u001b[0mcoefficients\u001b[0m\u001b[1;33m)\u001b[0m \u001b[1;33m!=\u001b[0m \u001b[0mself\u001b[0m\u001b[1;33m.\u001b[0m\u001b[0mnumber_of_functions\u001b[0m\u001b[1;33m:\u001b[0m\u001b[1;33m\u001b[0m\u001b[1;33m\u001b[0m\u001b[0m\n\u001b[0m\u001b[0;32m    111\u001b[0m             \u001b[0mprint\u001b[0m\u001b[1;33m(\u001b[0m\u001b[1;34mf\"Expected length of coefficients {len(coefficients)} to match basis {self.number_of_functions}, but found otherwise.\"\u001b[0m\u001b[1;33m)\u001b[0m\u001b[1;33m\u001b[0m\u001b[1;33m\u001b[0m\u001b[0m\n\u001b[0;32m    112\u001b[0m             \u001b[1;32mreturn\u001b[0m \u001b[1;32mFalse\u001b[0m\u001b[1;33m\u001b[0m\u001b[1;33m\u001b[0m\u001b[0m\n",
      "\u001b[1;31mTypeError\u001b[0m: len() of unsized object"
     ]
    }
   ],
   "source": [
    "power_small_lookup = {}\n",
    "power_fun_lookup = {}\n",
    "\n",
    "for row in power_small_pd.iterrows():  \n",
    "    n = row[1][\"n\"]\n",
    "    shift = row[1][\"shift\"]\n",
    "    fun = row[1][\"fun\"]\n",
    "    x = np.array(row[1][\"x\"])\n",
    "    pulse_factory = PowerFactory(n=n, shift=shift, perform_checks=False)\n",
    "    pulse = pulse_factory.sample(x)\n",
    "    power_small_lookup.update({f\"n_{row['n']}_shift_{row['shift']}\": pulse})\n",
    "    power_fun_lookup.update({f\"n_{n}_shift_{shift}\": fun})\n"
   ]
  },
  {
   "cell_type": "code",
   "execution_count": 25,
   "id": "c5edda56",
   "metadata": {},
   "outputs": [],
   "source": [
    "# Construct optimal power pulse (56)\n",
    "pulse_factory = PowerFactory(n=5, shift=0.5, perform_checks=False)\n",
    "power_pulse = pulse_factory.sample(coefficients=[ 5.33953461e-01, 3.05655882e+01, -3.99373740e+01, -9.10361188e+02, 3.03532883e+02,  4.80491023e+03])"
   ]
  },
  {
   "cell_type": "code",
   "execution_count": 26,
   "id": "8a6f6f5b",
   "metadata": {},
   "outputs": [],
   "source": [
    "# Construct fourier test pulse\n",
    "pulse_factory = FourierFactory(n=1, shift=0.0, perform_checks=False)\n",
    "fourier_pulse =pulse_factory.sample(coefficients=[1.00066112e-03, 4.60649974e+00, -5.55781796e-01, -1.80375020e+00])"
   ]
  },
  {
   "cell_type": "code",
   "execution_count": 27,
   "id": "90dae194",
   "metadata": {},
   "outputs": [],
   "source": [
    "lookup = {\"optimal-power-pulse\": power_pulse, \"optimal-fourier-pulse\": fourier_pulse}"
   ]
  },
  {
   "cell_type": "markdown",
   "id": "d0ccb7e0",
   "metadata": {},
   "source": [
    "## Visualization"
   ]
  },
  {
   "cell_type": "markdown",
   "id": "723fa054",
   "metadata": {},
   "source": []
  },
  {
   "cell_type": "code",
   "execution_count": null,
   "id": "46249a29",
   "metadata": {},
   "outputs": [],
   "source": [
    "def plot_pulses(pulse_lookup, filename: str=None, label_prefix: str=\"\"):\n",
    "    \"\"\"Plots the pulse waveform on the interval [0,1]. Saves to filename if specified.\n",
    "\n",
    "    Args:\n",
    "        pulse_lookup (dict): Lookup of pulses with the name (str) as key and pulse (Pulse) as value.\n",
    "        filename (str): Relative path plus filename to save the visualization.\n",
    "        label_prefix (str): Adds a prefix to the label of the plot.\n",
    "    \"\"\"\n",
    "    # Plot each pulse\n",
    "    x = np.linspace(0, 1, 100)\n",
    "    for name, pulse in pulse_lookup.items():\n",
    "        pulse = pulse.get_pulse()\n",
    "        y = [pulse(x_val) for x_val in x]\n",
    "        plt.plot(x, y, label=f\"{label_prefix}{name}\")\n",
    "\n",
    "    plt.xlabel('Parametrization variable t')\n",
    "    plt.ylabel(\"s [1]\")\n",
    "    plt.title(\"Pulse waveform\")\n",
    "    plt.legend()\n",
    "    if filename is not None:\n",
    "        plt.savefig(filename)\n",
    "    plt.show()\n",
    "    plt.close()"
   ]
  },
  {
   "cell_type": "code",
   "execution_count": 20,
   "id": "21253390",
   "metadata": {},
   "outputs": [],
   "source": [
    "def plot_parametrizations(pulse_lookup, filename: str=None, label_prefix: str=\"\"):\n",
    "    \"\"\"Plots the pulse parametrization on the interval [0,1]. Saves to filename if specified.\n",
    "\n",
    "    Args:\n",
    "        pulse_lookup (dict): Lookup of pulses with the name (str) as key and pulse (Pulse) as value.\n",
    "        filename (str): Relative path plus filename to save the visualization.\n",
    "        label_prefix (str): Adds a prefix to the label of the plot.\n",
    "    \"\"\"\n",
    "    # Plot each parametrization\n",
    "    x = np.linspace(0, 1, 100)\n",
    "    for name, pulse in pulse_lookup.items():\n",
    "        param = pulse.get_parametrization()\n",
    "        y = [param(x_val) for x_val in x]\n",
    "        plt.plot(x, y, label=f\"{label_prefix}{name}\")\n",
    "    plt.xlabel('Parametrization variable t')\n",
    "    plt.ylabel(r\"$\\theta$ [1]\")\n",
    "    plt.title(\"Pulse parametrization\")\n",
    "    plt.legend()\n",
    "    if filename is not None:\n",
    "        plt.savefig(filename)\n",
    "    plt.show()\n",
    "    plt.close()"
   ]
  },
  {
   "cell_type": "code",
   "execution_count": 28,
   "id": "fdb8d02e",
   "metadata": {},
   "outputs": [
    {
     "data": {
      "image/png": "[encoded data removed]",
      "text/plain": [
       "<Figure size 576x432 with 1 Axes>"
      ]
     },
     "metadata": {
      "needs_background": "light"
     },
     "output_type": "display_data"
    }
   ],
   "source": [
    "plot_pulses(pulse_lookup=lookup)"
   ]
  },
  {
   "cell_type": "code",
   "execution_count": 29,
   "id": "01ead7a5",
   "metadata": {},
   "outputs": [
    {
     "data": {
      "image/png": "[encoded data removed]",
      "text/plain": [
       "<Figure size 576x432 with 1 Axes>"
      ]
     },
     "metadata": {
      "needs_background": "light"
     },
     "output_type": "display_data"
    }
   ],
   "source": [
    "plot_parametrizations(pulse_lookup=lookup)"
   ]
  },
  {
   "cell_type": "code",
   "execution_count": null,
   "id": "f74c8c2e",
   "metadata": {},
   "outputs": [],
   "source": []
  },
  {
   "cell_type": "code",
   "execution_count": null,
   "id": "22e5cbc8",
   "metadata": {},
   "outputs": [],
   "source": []
  },
  {
   "cell_type": "code",
   "execution_count": null,
   "id": "f9247398",
   "metadata": {},
   "outputs": [],
   "source": []
  }
 ],
 "metadata": {
  "kernelspec": {
   "display_name": "Python 3 (ipykernel)",
   "language": "python",
   "name": "python3"
  },
  "language_info": {
   "codemirror_mode": {
    "name": "ipython",
    "version": 3
   },
   "file_extension": ".py",
   "mimetype": "text/x-python",
   "name": "python",
   "nbconvert_exporter": "python",
   "pygments_lexer": "ipython3",
   "version": "3.9.7"
  }
 },
 "nbformat": 4,
 "nbformat_minor": 5
}
